{
 "cells": [
  {
   "cell_type": "code",
   "execution_count": null,
   "id": "bb4bd385",
   "metadata": {},
   "outputs": [],
   "source": [
    "import os\n",
    "import google.generativeai as genai\n",
    "from langchain_google_genai import ChatGoogleGenerativeAI\n",
    "from dotenv import load_dotenv"
   ]
  },
  {
   "cell_type": "code",
   "execution_count": null,
   "id": "5ef14705",
   "metadata": {},
   "outputs": [],
   "source": [
    "load_dotenv()\n",
    "\n",
    "# Configure API key\n",
    "try:\n",
    "    GOOGLE_API_KEY = os.getenv(\"GOOGLE_API_KEY\")\n",
    "    if not GOOGLE_API_KEY:\n",
    "        raise ValueError(\"Missing GOOGLE_API_KEY environment variable\")\n",
    "    genai.configure(api_key=GOOGLE_API_KEY)\n",
    "except Exception as e:\n",
    "    raise\n"
   ]
  },
  {
   "cell_type": "code",
   "execution_count": null,
   "id": "68204567",
   "metadata": {},
   "outputs": [],
   "source": [
    "from langchain_community.document_loaders import PyPDFLoader\n",
    "from langchain.text_splitter import RecursiveCharacterTextSplitter\n",
    "\n",
    "# โหลดไฟล์ PDF\n",
    "pdf_path = \"./That Time I Got Reincarnated as a Slime LN 21(Eng).pdf\" \n",
    "loader = PyPDFLoader(pdf_path)\n",
    "documents = loader.load()\n",
    "print(f\"โหลดเอกสารทั้งหมด {len(documents)} หน้า\")\n",
    "\n",
    "text_splitter = RecursiveCharacterTextSplitter(\n",
    "    chunk_size=2000,\n",
    "    chunk_overlap=200,\n",
    "    length_function=len,\n",
    ")\n",
    "split_docs = text_splitter.split_documents(documents)\n",
    "print(f\"แบ่งข้อความออกเป็นทั้งหมด {len(split_docs)} chunks\")"
   ]
  },
  {
   "cell_type": "code",
   "execution_count": null,
   "id": "7ed50bf0",
   "metadata": {},
   "outputs": [],
   "source": [
    "from langchain_google_genai import ChatGoogleGenerativeAI\n",
    "from langchain.prompts import PromptTemplate\n",
    "from langchain.chains.base import Chain\n",
    "\n",
    "llm = ChatGoogleGenerativeAI(\n",
    "    model=\"gemini-2.5-flash-preview-04-17\",\n",
    "    temperature=1.2,\n",
    "    timeout=None,\n",
    "    max_retries=2,\n",
    ")\n",
    "\n",
    "prompt_template = \"\"\"\n",
    "Translate the following English text to Thai. \n",
    "Please maintain the original tone, style, and literary nuances of a novel.\n",
    "If the word is the name of the characters do not translate to Thai!!.\n",
    "\n",
    "ENGLISH TEXT:\n",
    "\"{text}\"\n",
    "\n",
    "THAI TRANSLATION:\n",
    "\"\"\"\n",
    "prompt = PromptTemplate(\n",
    "    template=prompt_template,\n",
    "    input_variables=[\"text\"],\n",
    ")\n",
    "\n",
    "translation_chain = prompt | llm"
   ]
  },
  {
   "cell_type": "code",
   "execution_count": null,
   "id": "651f2dde",
   "metadata": {},
   "outputs": [],
   "source": [
    "import time\n",
    "\n",
    "translated_parts = []\n",
    "total_chunks = len(split_docs)\n",
    "\n",
    "for i, doc in enumerate(split_docs):\n",
    "    try:\n",
    "        \n",
    "        input_text = doc.page_content\n",
    "        \n",
    "        result = translation_chain.invoke({\"text\": input_text})\n",
    "        \n",
    "        translated_text = result.content\n",
    "        \n",
    "        translated_parts.append(translated_text)\n",
    "        \n",
    "        print(f\"แปล Chunk {i+1}/{total_chunks} เสร็จสิ้น\")\n",
    "        \n",
    "        time.sleep(4.1) \n",
    "\n",
    "    except Exception as e:\n",
    "        print(f\"เกิดข้อผิดพลาดที่ Chunk {i+1}: {e}\")\n",
    "        translated_parts.append(f\"[--- ERROR TRANSLATING CHUNK {i+1} ---]\")\n",
    "\n",
    "final_translation = \"\\n\".join(translated_parts)\n",
    "\n",
    "# บันทึกผลลัพธ์ลงไฟล์\n",
    "with open(\"translated_novel_th.txt_1\", \"w\", encoding=\"utf-8\") as f:\n",
    "    f.write(final_translation)\n",
    "\n",
    "print(\"\\nการแปลเสร็จสมบูรณ์! บันทึกไฟล์แล้วที่ translated_novel_th.txt\")"
   ]
  },
  {
   "cell_type": "code",
   "execution_count": null,
   "id": "fcbb5e1b",
   "metadata": {},
   "outputs": [],
   "source": []
  }
 ],
 "metadata": {
  "kernelspec": {
   "display_name": "Python 3",
   "language": "python",
   "name": "python3"
  },
  "language_info": {
   "codemirror_mode": {
    "name": "ipython",
    "version": 3
   },
   "file_extension": ".py",
   "mimetype": "text/x-python",
   "name": "python",
   "nbconvert_exporter": "python",
   "pygments_lexer": "ipython3",
   "version": "3.9.5"
  }
 },
 "nbformat": 4,
 "nbformat_minor": 5
}
